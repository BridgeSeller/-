{
  "cells": [
    {
      "cell_type": "markdown",
      "metadata": {
        "id": "U5qPNP2dFTj_"
      },
      "source": [
        ">>> # ***Компьютерная графика***\n",
        "\n",
        "\n",
        "\n",
        "\n",
        "\n",
        "\n",
        "\n",
        "\n",
        "\n",
        "\n",
        "\n",
        "\n",
        "\n",
        "\n"
      ]
    },
    {
      "cell_type": "markdown",
      "metadata": {
        "id": "ijnTei-ME-Y-"
      },
      "source": [
        "# Лабораторная работа 1"
      ]
    },
    {
      "cell_type": "code",
      "execution_count": 2,
      "metadata": {
        "id": "0i5ZW2ABc8_t"
      },
      "outputs": [],
      "source": [
        "from PIL import Image\n",
        "import numpy as np\n",
        "import random"
      ]
    },
    {
      "cell_type": "markdown",
      "metadata": {
        "id": "V1LHwH-P7lrK"
      },
      "source": [
        "## 1. Работа с изображениями."
      ]
    },
    {
      "cell_type": "markdown",
      "metadata": {
        "id": "1fwfFdKk8GJO"
      },
      "source": [
        "*Полностью черное*"
      ]
    },
    {
      "cell_type": "code",
      "execution_count": 3,
      "metadata": {
        "id": "l6FqgUpwOuVn"
      },
      "outputs": [],
      "source": [
        "image = np.zeros((1000,1000), dtype=int)\n",
        "\n",
        "image = Image.fromarray(image,'L')\n",
        "image.save(\"image1_1.jpg\")"
      ]
    },
    {
      "cell_type": "markdown",
      "metadata": {
        "id": "GZzIVBUsHwOh"
      },
      "source": [
        "# *Полностью белое*"
      ]
    },
    {
      "cell_type": "code",
      "execution_count": 4,
      "metadata": {
        "id": "mQx-aE_HH4BY"
      },
      "outputs": [],
      "source": [
        "image = np.full((200,200), 255, dtype=np.uint8)\n",
        "\n",
        "\n",
        "image = Image.fromarray(image,'L')\n",
        "image.save(\"image1_2.jpg\")"
      ]
    },
    {
      "cell_type": "markdown",
      "metadata": {
        "id": "oAqoDbgtH4fp"
      },
      "source": [
        "## *Полностью красное*"
      ]
    },
    {
      "cell_type": "code",
      "execution_count": null,
      "metadata": {
        "id": "bMgB7LavH7rE"
      },
      "outputs": [],
      "source": [
        "image = np.full((200,200,3), 255, dtype=np.uint8)\n",
        "\n",
        "for i in range(200):\n",
        "    for j in range(200):\n",
        "        image[j, i]=(255,0,0) \n",
        "\n",
        "\n",
        "image = Image.fromarray(image,'RGB')\n",
        "image.save(\"image1_3.jpg\")"
      ]
    },
    {
      "cell_type": "markdown",
      "metadata": {
        "id": "VyVKguJK70an"
      },
      "source": [
        "*Градиент*"
      ]
    },
    {
      "cell_type": "code",
      "execution_count": null,
      "metadata": {
        "id": "TS7WmliWag2S"
      },
      "outputs": [],
      "source": [
        "#img = np.zeros((100,100,3), dtype=int)\n",
        "img = np.full((256,256,3), 255, dtype=np.uint8)\n",
        "\n",
        "\n",
        "for i in range(256):\n",
        "    for j in range(256):\n",
        "        img[j, i]=(i*j%10,j,i) #Вот это\n",
        "\n",
        "\n",
        "\n",
        "image = Image.fromarray(img,'RGB')\n",
        "image.save(\"image1_4.jpg\")"
      ]
    },
    {
      "cell_type": "markdown",
      "metadata": {
        "id": "2JYPapRQ7QH2"
      },
      "source": [
        "## 2. Отрисовка прямых линий"
      ]
    },
    {
      "cell_type": "markdown",
      "metadata": {
        "id": "OJKeYtqA_wN6"
      },
      "source": [
        "*первый вариант*"
      ]
    },
    {
      "cell_type": "code",
      "execution_count": null,
      "metadata": {
        "id": "vcKufuiq12v2"
      },
      "outputs": [],
      "source": [
        "img = np.full((256,256), 255, dtype=np.uint8)\n",
        "x0 = 128\n",
        "y0 = 128\n",
        "x1 = 0\n",
        "y1 = 0\n",
        "phi = 0.0\n",
        "while (phi < 2*np.pi):\n",
        "    x1 = x0 + 127*np.cos(phi)\n",
        "    y1 = y0 + 127*np.sin(phi)\n",
        "    i = 0.0\n",
        "    while(i<1.0):\n",
        "        x = int(np.floor(x0*(1.-i)+x1*i));\n",
        "        y = int(np.floor(y0*(1.-i)+y1*i));\n",
        "        img[x, y] = 0\n",
        "        i+=0.01\n",
        "    phi += np.pi/8\n",
        "image = Image.fromarray(img,'L')\n",
        "image.save(\"image2_1.jpg\")"
      ]
    },
    {
      "cell_type": "markdown",
      "metadata": {
        "id": "EKGpT0P-AzvQ"
      },
      "source": [
        "*второй вариант*"
      ]
    },
    {
      "cell_type": "code",
      "execution_count": null,
      "metadata": {
        "id": "8bUNALTb_B-J"
      },
      "outputs": [],
      "source": [
        "img = np.full((256,256), 255, dtype=np.uint8)\n",
        "x0 = 128\n",
        "y0 = 128\n",
        "x1 = 0\n",
        "y1 = 0\n",
        "phi = 0.0\n",
        "while (phi < 2*np.pi):\n",
        "    x1 = x0 + 127*np.cos(phi)\n",
        "    y1 = y0 + 127*np.sin(phi)\n",
        "    for x in range(x0,int(x1)):\n",
        "        t = (x-x0)/(x1-x0)\n",
        "        y = int(y0*(1.-t) + y1*t)\n",
        "        img[x, y] = 0\n",
        "    phi += np.pi/8\n",
        "image = Image.fromarray(img,'L')\n",
        "image.save(\"image2_2.jpg\")"
      ]
    },
    {
      "cell_type": "markdown",
      "metadata": {
        "id": "VN8HP6wLA4D7"
      },
      "source": [
        "*третий вариант*"
      ]
    },
    {
      "cell_type": "code",
      "execution_count": null,
      "metadata": {
        "id": "uT5tioDj_GiI"
      },
      "outputs": [],
      "source": [
        "img = np.full((256,256), 255, dtype=np.uint8)\n",
        "\n",
        "phi = 0.0\n",
        "while (phi < 2*np.pi):\n",
        "    x0 = 128\n",
        "    y0 = 128\n",
        "    x1 = x0 + 127*np.cos(phi)\n",
        "    y1 = y0 + 127*np.sin(phi)\n",
        "    steep = 0\n",
        "    if (abs(x0-x1)<abs(y0-y1)):\n",
        "        x0,y0 = y0,x0\n",
        "        x1,y1 = y1,x1\n",
        "        steep = 1\n",
        "    if (x0>x1):\n",
        "        x0,x1 = x1,x0\n",
        "        y0,y1 = y1,y0\n",
        "        \n",
        "    for x in range(int(x0),int(x1)):\n",
        "        t = (x-x0)/(x1-x0)\n",
        "        y = int(y0*(1.-t) + y1*t)\n",
        "        if (steep == 1):\n",
        "            img[y, x] = 0\n",
        "        else:\n",
        "            img[x, y] = 0\n",
        "    phi += np.pi/8\n",
        "image = Image.fromarray(img,'L')\n",
        "image.save(\"image2_3.jpg\")"
      ]
    },
    {
      "cell_type": "markdown",
      "metadata": {
        "id": "5OUjzXSZA9uD"
      },
      "source": [
        "*четвертый вариант* - ***Алгоритм Брезенхема***"
      ]
    },
    {
      "cell_type": "code",
      "execution_count": null,
      "metadata": {
        "id": "lyNs7lW-_Kz0"
      },
      "outputs": [],
      "source": [
        "img = np.full((256,256), 255, dtype=np.uint8)\n",
        "\n",
        "phi = 0.0\n",
        "while (phi < 2*np.pi):\n",
        "    x0 = 128\n",
        "    y0 = 128\n",
        "    x1 = x0 + 127*np.cos(phi)\n",
        "    y1 = y0 + 127*np.sin(phi)\n",
        "    steep = 0\n",
        "    \n",
        "    if (abs(x0-x1)<abs(y0-y1)):\n",
        "        x0,y0 = y0,x0\n",
        "        x1,y1 = y1,x1\n",
        "        steep = 1\n",
        "    if (x0>x1):\n",
        "        x0,x1 = x1,x0\n",
        "        y0,y1 = y1,y0\n",
        "        \n",
        "    dx = x1-x0\n",
        "    dy = y1-y0\n",
        "    derror = abs(dy/dx)\n",
        "    error = 0.0\n",
        "    y = int(y0)\n",
        "    \n",
        "    for x in range(int(x0),int(x1)):\n",
        "        if (steep == 1):\n",
        "            img[y, x] = 0\n",
        "        else:\n",
        "            img[x, y] = 0\n",
        "        error += derror\n",
        "        if (error > 0.5):\n",
        "            if (y1 > y0):\n",
        "                y += 1\n",
        "            else:\n",
        "                y -= 1\n",
        "            error -= 1\n",
        "    phi += np.pi/8\n",
        "image = Image.fromarray(img,'L')\n",
        "image.save(\"image2_4.jpg\")"
      ]
    },
    {
      "cell_type": "markdown",
      "metadata": {
        "id": "rrUFUy1QCWUM"
      },
      "source": [
        "## 3. Работа с трёхмерной моделью (вершины)\n",
        "*Считываем данные из obj файла*"
      ]
    },
    {
      "cell_type": "code",
      "execution_count": null,
      "metadata": {
        "id": "5m5r1QHhCWA3"
      },
      "outputs": [],
      "source": [
        "with open(\"fox.obj\",'r') as f:\n",
        "    img = np.full((1000,1000), 255, dtype=np.uint8)\n",
        "    coordinates = []\n",
        "    data = f.readlines()\n",
        "    \n",
        "    for line in data:\n",
        "        if(line[0]=='v'):\n",
        "            coordinates.append(line[2:-1])"
      ]
    },
    {
      "cell_type": "markdown",
      "metadata": {
        "id": "6rBU1zqmDVnS"
      },
      "source": [
        "## 4. Отрисовка вершин трёхмерной модели"
      ]
    },
    {
      "cell_type": "code",
      "execution_count": null,
      "metadata": {
        "id": "FQ6jNOsxDbJN"
      },
      "outputs": [],
      "source": [
        "with open(\"fox.obj\",'r') as f:\n",
        "    img = np.full((1000,1000), 255, dtype=np.uint8)\n",
        "    coordinates = []\n",
        "    data = f.readlines()\n",
        "    \n",
        "    for line in data:\n",
        "        if((line[0]=='v') & (line[1]==' ')):\n",
        "            coordinates.append(line[2:-1])\n",
        "    for line in coordinates:\n",
        "        xyz = line.split()\n",
        "        x = int(5*float(xyz[0]) + 500)\n",
        "        y = int(5*float(xyz[1]) + 500)\n",
        "        img[x,y] = 0\n",
        "    image = Image.fromarray(img,'L')\n",
        "image.save(\"image3_1.jpg\")"
      ]
    },
    {
      "cell_type": "markdown",
      "metadata": {
        "id": "yJT9BZu7Dgam"
      },
      "source": [
        "## 5. Работа с трёхмерной моделью (полигоны)"
      ]
    },
    {
      "cell_type": "code",
      "execution_count": 5,
      "metadata": {
        "id": "hOU71q66DlPJ",
        "colab": {
          "base_uri": "https://localhost:8080/",
          "height": 235
        },
        "outputId": "3b9efbc7-2aa7-48c4-bf73-f30177c0e938"
      },
      "outputs": [
        {
          "output_type": "error",
          "ename": "FileNotFoundError",
          "evalue": "ignored",
          "traceback": [
            "\u001b[0;31m---------------------------------------------------------------------------\u001b[0m",
            "\u001b[0;31mFileNotFoundError\u001b[0m                         Traceback (most recent call last)",
            "\u001b[0;32m<ipython-input-5-5999c116b76c>\u001b[0m in \u001b[0;36m<module>\u001b[0;34m()\u001b[0m\n\u001b[0;32m----> 1\u001b[0;31m \u001b[0;32mwith\u001b[0m \u001b[0mopen\u001b[0m\u001b[0;34m(\u001b[0m\u001b[0;34m\"fox.obj\"\u001b[0m\u001b[0;34m,\u001b[0m\u001b[0;34m'r'\u001b[0m\u001b[0;34m)\u001b[0m \u001b[0;32mas\u001b[0m \u001b[0mf\u001b[0m\u001b[0;34m:\u001b[0m\u001b[0;34m\u001b[0m\u001b[0;34m\u001b[0m\u001b[0m\n\u001b[0m\u001b[1;32m      2\u001b[0m     \u001b[0mimg\u001b[0m \u001b[0;34m=\u001b[0m \u001b[0mnp\u001b[0m\u001b[0;34m.\u001b[0m\u001b[0mfull\u001b[0m\u001b[0;34m(\u001b[0m\u001b[0;34m(\u001b[0m\u001b[0;36m1000\u001b[0m\u001b[0;34m,\u001b[0m\u001b[0;36m1000\u001b[0m\u001b[0;34m)\u001b[0m\u001b[0;34m,\u001b[0m \u001b[0;36m255\u001b[0m\u001b[0;34m,\u001b[0m \u001b[0mdtype\u001b[0m\u001b[0;34m=\u001b[0m\u001b[0mnp\u001b[0m\u001b[0;34m.\u001b[0m\u001b[0muint8\u001b[0m\u001b[0;34m)\u001b[0m\u001b[0;34m\u001b[0m\u001b[0;34m\u001b[0m\u001b[0m\n\u001b[1;32m      3\u001b[0m     \u001b[0mcoordinates\u001b[0m \u001b[0;34m=\u001b[0m \u001b[0;34m[\u001b[0m\u001b[0;34m]\u001b[0m\u001b[0;34m\u001b[0m\u001b[0;34m\u001b[0m\u001b[0m\n\u001b[1;32m      4\u001b[0m     \u001b[0mdata\u001b[0m \u001b[0;34m=\u001b[0m \u001b[0mf\u001b[0m\u001b[0;34m.\u001b[0m\u001b[0mreadlines\u001b[0m\u001b[0;34m(\u001b[0m\u001b[0;34m)\u001b[0m\u001b[0;34m\u001b[0m\u001b[0;34m\u001b[0m\u001b[0m\n\u001b[1;32m      5\u001b[0m \u001b[0;34m\u001b[0m\u001b[0m\n",
            "\u001b[0;31mFileNotFoundError\u001b[0m: [Errno 2] No such file or directory: 'fox.obj'"
          ]
        }
      ],
      "source": [
        "with open(\"fox.obj\",'r') as f:\n",
        "    img = np.full((1000,1000), 255, dtype=np.uint8)\n",
        "    coordinates = []\n",
        "    data = f.readlines()\n",
        "    \n",
        "    for line in data:\n",
        "        if((line[0]=='f') & (line[1]==' ')):\n",
        "            coordinates.append(line[2:-1])\n",
        "    polygons = []\n",
        "    for line in coordinates:\n",
        "        xyz = line.split()\n",
        "        numbers = []\n",
        "        for i in xyz:\n",
        "            numbers.append(i.split('/')[0])\n",
        "        polygons.append(numbers)"
      ]
    },
    {
      "cell_type": "markdown",
      "metadata": {
        "id": "raZZr-nQDljh"
      },
      "source": [
        "## 6. Отрисовка рёбер трёхмерной модели"
      ]
    },
    {
      "cell_type": "code",
      "execution_count": null,
      "metadata": {
        "id": "PA3HLwMaMNTn"
      },
      "outputs": [],
      "source": [
        "def drawline(x0 ,y0 ,x1 ,y1):\n",
        "    steep = 0\n",
        "    \n",
        "    if (abs(x0-x1)<abs(y0-y1)):\n",
        "        x0,y0 = y0,x0\n",
        "        x1,y1 = y1,x1\n",
        "        steep = 1\n",
        "    if (x0>x1):\n",
        "        x0,x1 = x1,x0\n",
        "        y0,y1 = y1,y0\n",
        "        \n",
        "    dx = x1-x0\n",
        "    dy = y1-y0\n",
        "    derror = 0;\n",
        "    if(dx != 0):\n",
        "        derror = abs(dy/dx)\n",
        "    error = 0.0\n",
        "    y = int(y0)\n",
        "    \n",
        "    for x in range(int(x0),int(x1)):\n",
        "        if (steep == 1):\n",
        "            img[1000-y, 1000-x] = 0\n",
        "        else:\n",
        "            img[1000-x, 1000-y] = 0\n",
        "        error += derror\n",
        "        if (error > 0.5):\n",
        "            if (y1 > y0):\n",
        "                y += 1\n",
        "            else:\n",
        "                y -= 1\n",
        "            error -= 1\n",
        "    return"
      ]
    },
    {
      "cell_type": "code",
      "execution_count": null,
      "metadata": {
        "id": "BB2kN25lMT4E"
      },
      "outputs": [],
      "source": [
        "def drawpolygon(points):\n",
        "    l1 = lines[int(points[0])-1]\n",
        "    l2 = lines[int(points[1])-1]\n",
        "    l3 = lines[int(points[2])-1]\n",
        "    drawline(l1[0],l1[1],l2[0],l2[1])\n",
        "    drawline(l2[0],l2[1],l3[0],l3[1])\n",
        "    drawline(l3[0],l3[1],l1[0],l1[1])"
      ]
    },
    {
      "cell_type": "code",
      "execution_count": null,
      "metadata": {
        "id": "0Wo7TTDpDqta"
      },
      "outputs": [],
      "source": [
        "with open(\"fox.obj\",'r') as f:\n",
        "    img = np.full((1000,1000), 255, dtype=np.uint8)\n",
        "    data = f.readlines()\n",
        "    \n",
        "    coordinates = []\n",
        "    polygons = []\n",
        "\n",
        "    for line in data:\n",
        "        if((line[0]=='f') & (line[1]==' ')):\n",
        "            coordinates.append(line[2:-1])\n",
        "    for line in coordinates:\n",
        "        xyz = line.split()\n",
        "        numbers = []\n",
        "        for i in xyz:\n",
        "            numbers.append(i.split('/')[0])\n",
        "        polygons.append(numbers)\n",
        "\n",
        "    coordinates = []\n",
        "    lines = []\n",
        "\n",
        "    for line in data:\n",
        "        if((line[0]=='v') & (line[1]==' ')):\n",
        "            coordinates.append(line[2:-1])\n",
        "    for line in coordinates:\n",
        "        xyz = line.split()\n",
        "        x = int(5*float(xyz[1]) + 500)\n",
        "        y = int(5*float(xyz[2]) + 500)\n",
        "        lines.append([x,y])\n",
        "        \n",
        "    for i in polygons:\n",
        "        drawpolygon(i)\n",
        "        \n",
        "    image = Image.fromarray(img,'L')\n",
        "    image.save(\"image4_1.jpg\")"
      ]
    },
    {
      "cell_type": "markdown",
      "metadata": {
        "id": "LstUbkmC-m60"
      },
      "source": [
        "# **Лабораторная работа 2**"
      ]
    },
    {
      "cell_type": "markdown",
      "metadata": {
        "id": "jyxPyqjY_I3e"
      },
      "source": [
        "## 7. Барицентрические координаты"
      ]
    },
    {
      "cell_type": "code",
      "execution_count": null,
      "metadata": {
        "id": "ndNYt3jN_Gu2"
      },
      "outputs": [],
      "source": [
        "def bari_koord(x,y,x0,y0,x1,y1,x2,y2):\n",
        "    lambda0 = ((x1 - x2)*(y - y2) - (y1 - y2)*(x - x2)) / ((x1 - x2)*(y0 - y2) - (y1 - y2)*(x0 - x2))\n",
        "    lambda1 = ((x2 - x0)*(y - y0) - (y2 - y0)*(x - x0)) / ((x2 - x0)*(y1 - y0) - (y2 - y0)*(x1 - x0))\n",
        "    lambda2 = ((x0 - x1)*(y - y1) - (y0 - y1)*(x - x1)) / ((x0 - x1)*(y2 - y1) - (y0 - y1)*(x2 - x1)) \n",
        "    return (lambda0, lambda1, lambda2)"
      ]
    },
    {
      "cell_type": "code",
      "execution_count": null,
      "metadata": {
        "colab": {
          "base_uri": "https://localhost:8080/"
        },
        "id": "Si6HipOBEaqN",
        "outputId": "93f4b848-ae34-4732-fcb2-a4af1c1d4e2f"
      },
      "outputs": [
        {
          "name": "stdout",
          "output_type": "stream",
          "text": [
            "1.0\n"
          ]
        }
      ],
      "source": [
        "l = bari_koord(5,8,5,4,7,11,3,8)\n",
        "s=0\n",
        "for i in l: \n",
        "    s+=i\n",
        "print(s)"
      ]
    },
    {
      "cell_type": "markdown",
      "metadata": {
        "id": "2b7MW7TpEYl1"
      },
      "source": [
        "## 8. **Отрисовка треугольников**"
      ]
    },
    {
      "cell_type": "code",
      "execution_count": null,
      "metadata": {
        "id": "d_N9fZvXDNvC"
      },
      "outputs": [],
      "source": [
        "def rectangle(x0,y0,x1,y1,x2,y2):\n",
        "    xmin = min(x0, x1, x2)\n",
        "    ymin = min(y0, y1, y2)\n",
        "    xmax = max(x0, x1, x2)\n",
        "    ymax = max(y0, y1, y2)\n",
        "    if (xmin < 0): xmin = 0\n",
        "    if (ymin < 0): ymin = 0\n",
        "    if (xmax > 999): xmax = 999\n",
        "    if (ymax > 999): ymax = 999\n",
        "    return (xmin, ymin, xmax, ymax)"
      ]
    },
    {
      "cell_type": "code",
      "execution_count": null,
      "metadata": {
        "id": "ZjJ8F1njLhbe"
      },
      "outputs": [],
      "source": [
        "def draw_pixel(x,y,x0,y0,x1,y1,x2,y2, oblast):\n",
        "\n",
        "    koord = bari_koord(x,y,x0,y0,x1,y1,x2,y2)\n",
        "    for i in koord:\n",
        "        if i<0: return\n",
        "\n",
        "    img[x,y] = 0\n",
        "\n",
        "    return"
      ]
    },
    {
      "cell_type": "code",
      "execution_count": null,
      "metadata": {
        "id": "KAv7LSCOM1OV"
      },
      "outputs": [],
      "source": [
        "img = np.full((1000,1000), 255, dtype=np.uint8)\n",
        "x0, y0, x1, y1, x2, y2 = 50,80, 566,80, 141,767\n",
        "oblast = rectangle(x0,y0,x1,y1,x2,y2)\n",
        "\n",
        "for i in range(oblast[0], oblast[2]):\n",
        "   for j in range(oblast[1], oblast[3]):\n",
        "       draw_pixel(i, j, x0, y0, x1, y1, x2, y2, oblast )\n",
        " \n",
        "\n",
        "image = Image.fromarray(img,'L')\n",
        "image.save(\"image5_1.jpg\")"
      ]
    },
    {
      "cell_type": "markdown",
      "metadata": {
        "id": "hheM7zIIIiKA"
      },
      "source": [
        "## 9. **Тестирование функции**"
      ]
    },
    {
      "cell_type": "markdown",
      "metadata": {
        "id": "Jx8SHbEsJXLb"
      },
      "source": [
        "*Координаты в пределах диапазона*"
      ]
    },
    {
      "cell_type": "code",
      "execution_count": null,
      "metadata": {
        "id": "v_muUbB7KKNE"
      },
      "outputs": [],
      "source": [
        "def draw_pixel(x,y,x0,y0,x1,y1,x2,y2, colr, oblast):\n",
        "\n",
        "    koord = bari_koord(x,y,x0,y0,x1,y1,x2,y2)\n",
        "    for i in koord:\n",
        "        if i<0: return\n",
        "        \n",
        "\n",
        "    img[x,y] = colr\n",
        "\n",
        "    return"
      ]
    },
    {
      "cell_type": "code",
      "execution_count": null,
      "metadata": {
        "id": "A7JhVYftIL6k"
      },
      "outputs": [],
      "source": [
        "img = np.full((1000,1000,3), 255, dtype=np.uint8)\n",
        "x0, y0, x1, y1, x2, y2 = 50,80, 566, 88, 141,767\n",
        "oblast = rectangle(x0,y0,x1,y1,x2,y2)\n",
        "\n",
        "for i in range(oblast[0], oblast[2]):\n",
        "   for j in range(oblast[1], oblast[3]):\n",
        "       draw_pixel(i, j, x0, y0, x1, y1, x2, y2, (i/4,j/4,0), oblast )\n",
        " \n",
        "\n",
        "image = Image.fromarray(img,'RGB')\n",
        "image.save(\"image6_1.jpg\")"
      ]
    },
    {
      "cell_type": "markdown",
      "metadata": {
        "id": "DY7vABAfJew0"
      },
      "source": [
        "## *Координаты за пределами диапазона*"
      ]
    },
    {
      "cell_type": "code",
      "execution_count": null,
      "metadata": {
        "id": "3nkhHu_iJK1u"
      },
      "outputs": [],
      "source": [
        "img = np.full((1000,1000,3), 255, dtype=np.uint8)\n",
        "x0, y0, x1, y1, x2, y2 = 50,80, 566,1888, 141,767\n",
        "oblast = rectangle(x0,y0,x1,y1,x2,y2)\n",
        "\n",
        "for i in range(oblast[0], oblast[2]):\n",
        "   for j in range(oblast[1], oblast[3]):\n",
        "       draw_pixel(i, j, x0, y0, x1, y1, x2, y2, (0,0,i*j), oblast )\n",
        " \n",
        "\n",
        "image = Image.fromarray(img,'RGB')\n",
        "image.save(\"image6_2.jpg\")"
      ]
    },
    {
      "cell_type": "markdown",
      "metadata": {
        "id": "cTpIw8G5JqA7"
      },
      "source": [
        "## 10. **Отрисока полигонов модели**"
      ]
    },
    {
      "cell_type": "code",
      "execution_count": null,
      "metadata": {
        "id": "e7VaEDNSYTRO"
      },
      "outputs": [],
      "source": [
        "def bari_koord(x,y,x0,y0,x1,y1,x2,y2):\n",
        "    if((x1 - x2)*(y0 - y2) - (y1 - y2)*(x0 - x2))==0: return(-1,-1,-1)\n",
        "    if((x2 - x0)*(y1 - y0) - (y2 - y0)*(x1 - x0))==0: return(-1,-1,-1)\n",
        "    if((x0 - x1)*(y2 - y1) - (y0 - y1)*(x2 - x1))==0: return(-1,-1,-1)\n",
        "    lambda0 = ((x1 - x2)*(y - y2) - (y1 - y2)*(x - x2)) / ((x1 - x2)*(y0 - y2) - (y1 - y2)*(x0 - x2))\n",
        "    lambda1 = ((x2 - x0)*(y - y0) - (y2 - y0)*(x - x0)) / ((x2 - x0)*(y1 - y0) - (y2 - y0)*(x1 - x0))\n",
        "    lambda2 = ((x0 - x1)*(y - y1) - (y0 - y1)*(x - x1)) / ((x0 - x1)*(y2 - y1) - (y0 - y1)*(x2 - x1)) \n",
        "    return (lambda0, lambda1, lambda2)"
      ]
    },
    {
      "cell_type": "code",
      "execution_count": null,
      "metadata": {
        "id": "qvwE_KWmUpVa"
      },
      "outputs": [],
      "source": [
        "def draw_pixel(x,y,x0,y0,x1,y1,x2,y2, colr, oblast):\n",
        "\n",
        "    koord = bari_koord(x,y,x0,y0,x1,y1,x2,y2)\n",
        "    for i in koord:\n",
        "        if i<0: return\n",
        "    img[x,y] = colr\n",
        "\n",
        "    return"
      ]
    },
    {
      "cell_type": "code",
      "execution_count": null,
      "metadata": {
        "id": "VZnNSWKaN5DI"
      },
      "outputs": [],
      "source": [
        "def drawpolygon(indexes):\n",
        "    p1 = points[int(indexes[0])-1];\n",
        "    p2 = points[int(indexes[1])-1];\n",
        "    p3 = points[int(indexes[2])-1];\n",
        "\n",
        "    oblast = rectangle(p1[0],p1[1],p2[0],p2[1],p3[0],p3[1])\n",
        "\n",
        "    r = random.randint(170,255)\n",
        "    b = random.randint(0,85)\n",
        "    g = random.randint(85,170)\n",
        "\n",
        "    for i in range(oblast[0], oblast[2]):\n",
        "        for j in range(oblast[1], oblast[3]):\n",
        "            draw_pixel(i, j, p1[0],p1[1],p2[0],p2[1],p3[0],p3[1], (r,g,0), oblast )"
      ]
    },
    {
      "cell_type": "code",
      "execution_count": null,
      "metadata": {
        "id": "I5ajuRhoL1Dr"
      },
      "outputs": [],
      "source": [
        "W = 1000\n",
        "H = 1000\n",
        "with open(\"fox.obj\",'r') as f:\n",
        "    img = np.full((W,H,3), 255, dtype=np.uint8)\n",
        "    data = f.readlines()\n",
        "\n",
        "    points = [] # Список всех точек модели \n",
        "\n",
        "    for line in data:\n",
        "        if((line[0]=='v') & (line[1]==' ')):\n",
        "            xyz = line[2:-1].split()\n",
        "            x = int((W/200)*float(xyz[1]) + W/2)\n",
        "            y = int((H/200)*float(xyz[2]) + H/2)\n",
        "            points.append([x,y])\n",
        "    \n",
        "    indexes = [] # \n",
        "    polygons = [] #\n",
        "\n",
        "    for line in data:\n",
        "        if((line[0]=='f') & (line[1]==' ')):\n",
        "            indexes.append(line[2:-1])\n",
        "\n",
        "    for idx in indexes:\n",
        "        xyz = idx.split()\n",
        "        numbers = []\n",
        "        for i in xyz:\n",
        "            numbers.append(i.split('/')[0])\n",
        "        polygons.append(numbers)\n",
        "    \n",
        "    for i in range(len(points)):\n",
        "        points[i][0] = W - points[i][0]\n",
        "        \n",
        "    for i in polygons:\n",
        "        drawpolygon(i)\n",
        "        \n",
        "    image = Image.fromarray(img,'RGB')\n",
        "    image.save(\"image7_1.jpg\")"
      ]
    },
    {
      "cell_type": "markdown",
      "metadata": {
        "id": "zFLgeiW1dmb8"
      },
      "source": [
        "## 11. **Вычисление нормали к поверхности**"
      ]
    },
    {
      "cell_type": "code",
      "execution_count": null,
      "metadata": {
        "id": "MeCBlIW2eApz"
      },
      "outputs": [],
      "source": [
        "def CalculateNormal(x0,y0,z0,x1,y1,z1,x2,y2,z2):\n",
        "    vx1 = x0-x1\n",
        "    vx2 = x1-x2\n",
        "    vy1 = y0-y1\n",
        "    vy2 = y1-y2\n",
        "    vz1 = z0-z1\n",
        "    vz2 = z1-z2\n",
        "    \n",
        "    nx = vy1*vz2 - vz1*vy2\n",
        "    ny = vz1*vx2 - vx1*vz2\n",
        "    nz = vx1*vy2 - vy1*vx2\n",
        "    \n",
        "    nn = np.sqrt(nx*nx + ny*ny + nz*nz)\n",
        "    \n",
        "    x = nx/nn\n",
        "    y = ny/nn\n",
        "    z = nz/nn\n",
        "    \n",
        "    return (x,y,z)"
      ]
    },
    {
      "cell_type": "markdown",
      "metadata": {
        "id": "vs1QhUFBeBlL"
      },
      "source": [
        "## 12. **Отсечение нелицевых граней**"
      ]
    },
    {
      "cell_type": "code",
      "execution_count": null,
      "metadata": {
        "id": "OPceIIOPeLoe"
      },
      "outputs": [],
      "source": [
        "def CalculateCos(n,l):\n",
        "    nl = n[0]*l[0] + n[1]*l[1] + n[2]*l[2]\n",
        "    divider = np.sqrt(n[0]*n[0] + n[1]*n[1] + n[2]*n[2])*np.sqrt(l[0]*l[0] + l[1]*l[1] + l[2]*l[2])\n",
        "    cos = nl/divider\n",
        "    return cos    "
      ]
    },
    {
      "cell_type": "code",
      "execution_count": null,
      "metadata": {
        "id": "3az5Qw8kYqkY"
      },
      "outputs": [],
      "source": [
        "def drawpolygon(indexes):\n",
        "    \n",
        "    \n",
        "    p1 = points[int(indexes[0])-1];\n",
        "    p2 = points[int(indexes[1])-1];\n",
        "    p3 = points[int(indexes[2])-1];\n",
        "    \n",
        "    n = CalculateNormal(p1[0],p1[1],p1[2],p2[0],p2[1],p2[2],p3[0],p3[1],p3[2])\n",
        "    \n",
        "    if(CalculateCos(n,(0,0,1)) < 0):\n",
        "        return\n",
        "\n",
        "    oblast = rectangle(p1[0],p1[1],p2[0],p2[1],p3[0],p3[1])\n",
        "\n",
        "    r = random.randint(170,255)\n",
        "    b = random.randint(0,85)\n",
        "    g = random.randint(85,170)\n",
        "\n",
        "    for i in range(oblast[0], oblast[2]):\n",
        "        for j in range(oblast[1], oblast[3]):\n",
        "            draw_pixel(i, j, p1[0],p1[1],p2[0],p2[1],p3[0],p3[1], (r,g,0), oblast )"
      ]
    },
    {
      "cell_type": "code",
      "execution_count": null,
      "metadata": {
        "id": "cgNCQaEaYqkZ"
      },
      "outputs": [],
      "source": [
        "W = 1000\n",
        "H = 1000\n",
        "with open(\"fox.obj\",'r') as f:\n",
        "    img = np.full((W,H,3), 255, dtype=np.uint8)\n",
        "    data = f.readlines()\n",
        "\n",
        "    points = [] # Список всех точек модели \n",
        "\n",
        "    for line in data:\n",
        "        if((line[0]=='v') & (line[1]==' ')):\n",
        "            xyz = line[2:-1].split()\n",
        "            x = int((W/200)*float(xyz[1]) + W/2)\n",
        "            y = int((H/200)*float(xyz[2]) + H/2)\n",
        "            z = int(((W+H)/400)*float(xyz[0]) + (W+H)/4)\n",
        "            points.append([x,y,z])\n",
        "    \n",
        "    indexes = [] # \n",
        "    polygons = [] #\n",
        "\n",
        "    for line in data:\n",
        "        if((line[0]=='f') & (line[1]==' ')):\n",
        "            indexes.append(line[2:-1])\n",
        "\n",
        "    for idx in indexes:\n",
        "        xyz = idx.split()\n",
        "        numbers = []\n",
        "        for i in xyz:\n",
        "            numbers.append(i.split('/')[0])\n",
        "        polygons.append(numbers)\n",
        "    \n",
        "    for i in range(len(points)):\n",
        "        points[i][0] = W - points[i][0]\n",
        "        \n",
        "    for i in polygons:\n",
        "        drawpolygon(i)\n",
        "        \n",
        "    image = Image.fromarray(img,'RGB')\n",
        "    image.save(\"image7_2.jpg\")"
      ]
    },
    {
      "cell_type": "markdown",
      "metadata": {
        "id": "1LFxiwWFeMZP"
      },
      "source": [
        "## 13. **Базовое освещение**"
      ]
    },
    {
      "cell_type": "code",
      "execution_count": null,
      "metadata": {
        "id": "B6SuLNiLYqka"
      },
      "outputs": [],
      "source": [
        "def drawpolygon(indexes):\n",
        "    \n",
        "    \n",
        "    p1 = points[int(indexes[0])-1];\n",
        "    p2 = points[int(indexes[1])-1];\n",
        "    p3 = points[int(indexes[2])-1];\n",
        "    \n",
        "    n = CalculateNormal(p1[0],p1[1],p1[2],p2[0],p2[1],p2[2],p3[0],p3[1],p3[2])\n",
        "    cos = CalculateCos(n,(0,0,1))\n",
        "    if(cos < 0):\n",
        "        return\n",
        "    oblast = rectangle(p1[0],p1[1],p2[0],p2[1],p3[0],p3[1])\n",
        "\n",
        "\n",
        "    for i in range(oblast[0], oblast[2]):\n",
        "        for j in range(oblast[1], oblast[3]):\n",
        "            draw_pixel(i, j, p1[0],p1[1],p2[0],p2[1],p3[0],p3[1], (255*cos,102*cos,0), oblast)"
      ]
    },
    {
      "cell_type": "code",
      "execution_count": null,
      "metadata": {
        "id": "RD3U51YDeVjo"
      },
      "outputs": [],
      "source": [
        "W = 1000\n",
        "H = 1000\n",
        "with open(\"fox.obj\",'r') as f:\n",
        "    img = np.full((W,H,3), 255, dtype=np.uint8)\n",
        "    data = f.readlines()\n",
        "\n",
        "    points = [] # Список всех точек модели \n",
        "\n",
        "    for line in data:\n",
        "        if((line[0]=='v') & (line[1]==' ')):\n",
        "            xyz = line[2:-1].split()\n",
        "            x = int((W/200)*float(xyz[1]) + W/2)\n",
        "            y = int((H/200)*float(xyz[2]) + H/2)\n",
        "            z = int(((W+H)/400)*float(xyz[0]) + (W+H)/4)\n",
        "            points.append([x,y,z])\n",
        "    \n",
        "    indexes = [] # \n",
        "    polygons = [] #\n",
        "\n",
        "    for line in data:\n",
        "        if((line[0]=='f') & (line[1]==' ')):\n",
        "            indexes.append(line[2:-1])\n",
        "\n",
        "    for idx in indexes:\n",
        "        xyz = idx.split()\n",
        "        numbers = []\n",
        "        for i in xyz:\n",
        "            numbers.append(i.split('/')[0])\n",
        "        polygons.append(numbers)\n",
        "    \n",
        "    for i in range(len(points)):\n",
        "        points[i][0] = W - points[i][0]\n",
        "        \n",
        "    for i in polygons:\n",
        "        drawpolygon(i)\n",
        "        \n",
        "    image = Image.fromarray(img,'RGB')\n",
        "    image.save(\"image7_3.jpg\")"
      ]
    },
    {
      "cell_type": "markdown",
      "metadata": {
        "id": "wpT8rs8xeWGf"
      },
      "source": [
        "## 14. **Z - буфер**"
      ]
    },
    {
      "cell_type": "code",
      "execution_count": null,
      "metadata": {
        "id": "dsIzGj_JeiGB"
      },
      "outputs": [],
      "source": [
        "def draw_pixel(x,y,x0,y0,z0,x1,y1,z1,x2,y2,z2, colr, oblast):\n",
        "\n",
        "    koord = bari_koord(x,y,x0,y0,x1,y1,x2,y2)\n",
        "    for i in koord:\n",
        "        if i<0: return\n",
        "    \n",
        "    z = koord[0]*z0 + koord[1]*z1 + koord[2]*z2\n",
        "    if(z < zbuf[x,y]):\n",
        "        return\n",
        "    img[x,y] = colr\n",
        "    zbuf[x,y] = z\n",
        "    return"
      ]
    },
    {
      "cell_type": "code",
      "execution_count": null,
      "metadata": {
        "id": "RdKGUQpjYqkc"
      },
      "outputs": [],
      "source": [
        "def drawpolygon(indexes):\n",
        "    \n",
        "    \n",
        "    p1 = points[int(indexes[0])-1];\n",
        "    p2 = points[int(indexes[1])-1];\n",
        "    p3 = points[int(indexes[2])-1];\n",
        "    \n",
        "    n = CalculateNormal(p1[0],p1[1],p1[2],p2[0],p2[1],p2[2],p3[0],p3[1],p3[2])\n",
        "    cos = CalculateCos(n,(0,0,1))\n",
        "    if(cos < 0):\n",
        "        return\n",
        "    oblast = rectangle(p1[0],p1[1],p2[0],p2[1],p3[0],p3[1])\n",
        "\n",
        "\n",
        "    for i in range(oblast[0], oblast[2]):\n",
        "        for j in range(oblast[1], oblast[3]):\n",
        "            draw_pixel(i, j, p1[0],p1[1],p1[2],p2[0],p2[1],p2[2],p3[0],p3[1],p3[2], (255*cos,102*cos,0), oblast)"
      ]
    },
    {
      "cell_type": "code",
      "execution_count": null,
      "metadata": {
        "id": "Hj1vkyyUYqkc"
      },
      "outputs": [],
      "source": [
        "W = 1000\n",
        "H = 1000\n",
        "with open(\"fox.obj\",'r') as f:\n",
        "    img = np.full((W,H,3), 255, dtype=np.uint8)\n",
        "    zbuf = np.full((W,H), 4000000000, dtype=np.int32)\n",
        "    data = f.readlines()\n",
        "\n",
        "    points = [] # Список всех точек модели \n",
        "\n",
        "    for line in data:\n",
        "        if((line[0]=='v') & (line[1]==' ')):\n",
        "            xyz = line[2:-1].split()\n",
        "            x = int((W/200)*float(xyz[1]) + W/2)\n",
        "            y = int((H/200)*float(xyz[2]) + H/2)\n",
        "            z = int(((W+H)/400)*float(xyz[0]) + (W+H)/4)\n",
        "            points.append([x,y,z])\n",
        "    \n",
        "    indexes = [] # \n",
        "    polygons = [] #\n",
        "\n",
        "    for line in data:\n",
        "        if((line[0]=='f') & (line[1]==' ')):\n",
        "            indexes.append(line[2:-1])\n",
        "\n",
        "    for idx in indexes:\n",
        "        xyz = idx.split()\n",
        "        numbers = []\n",
        "        for i in xyz:\n",
        "            numbers.append(i.split('/')[0])\n",
        "        polygons.append(numbers)\n",
        "    \n",
        "    for i in range(len(points)):\n",
        "        points[i][0] = W - points[i][0]\n",
        "        \n",
        "    for i in polygons:\n",
        "        drawpolygon(i)\n",
        "        \n",
        "    image = Image.fromarray(img,'RGB')\n",
        "    image.save(\"image7_4.jpg\")"
      ]
    },
    {
      "cell_type": "markdown",
      "metadata": {
        "id": "2Lqb5_ekYqkc"
      },
      "source": [
        "# **Лабораторная работа 3**\n"
      ]
    },
    {
      "cell_type": "markdown",
      "metadata": {
        "id": "rh85nUNeYqkd"
      },
      "source": [
        "## 15. **Проективное преобразование**\n"
      ]
    },
    {
      "cell_type": "code",
      "execution_count": null,
      "metadata": {
        "id": "psSCpjS4Yqkd"
      },
      "outputs": [],
      "source": [
        "aX = 5\n",
        "aY = 5\n",
        "\n",
        "u0 = 1\n",
        "v0 = 1\n",
        "\n",
        "t0 = 0.005\n",
        "t1 = -0.45\n",
        "t2 = 15\n",
        "\n",
        "with open(\"fox.obj\",'r') as f:\n",
        "    img = np.full((W,H,3), 255, dtype=np.uint8)\n",
        "    zbuf = np.full((W,H), 4000000000, dtype=np.int32)\n",
        "    data = f.readlines()\n",
        "\n",
        "    points = [] # Список всех точек модели \n",
        "\n",
        "    for line in data:\n",
        "        if((line[0]=='v') & (line[1]==' ')):\n",
        "            xyz = line[2:-1].split()            \n",
        "            \n",
        "            K = np.array([[aX,0,u0],[0,aY,v0],[5,5,1]],int)\n",
        "            A = np.array([float(xyz[0])+t0,float(xyz[1])+t1,float(xyz[2])+t2],float)\n",
        "            KAT = K.dot(A)\n",
        "            x = int(KAT[0]+500)\n",
        "            y = int(KAT[1]+500)\n",
        "            z = int(KAT[2]+500)\n",
        "            points.append([x,y,z])\n",
        "    \n",
        "    indexes = [] # \n",
        "    polygons = [] #\n",
        "\n",
        "    for line in data:\n",
        "        if((line[0]=='f') & (line[1]==' ')):\n",
        "            indexes.append(line[2:-1])\n",
        "\n",
        "    for idx in indexes:\n",
        "        xyz = idx.split()\n",
        "        numbers = []\n",
        "        for i in xyz:\n",
        "            numbers.append(i.split('/')[0])\n",
        "        polygons.append(numbers)\n",
        "        \n",
        "    for i in polygons:\n",
        "        drawpolygon(i)\n",
        "        \n",
        "    image = Image.fromarray(img,'RGB')\n",
        "    image.save(\"image7_5.jpg\")"
      ]
    },
    {
      "cell_type": "markdown",
      "metadata": {
        "id": "V_tHpWIUYqkd"
      },
      "source": [
        "## 16. **Поворот модели**"
      ]
    },
    {
      "cell_type": "code",
      "execution_count": null,
      "metadata": {
        "id": "NGHC3wJ_Yqke"
      },
      "outputs": [],
      "source": [
        "aX = 5\n",
        "aY = 5\n",
        "\n",
        "u0 = 1\n",
        "v0 = 1\n",
        "\n",
        "t0 = 2\n",
        "t1 = 2\n",
        "t2 = 15\n",
        "# Угол в радианах\n",
        "alpha = -0.7+np.pi/2\n",
        "beta = 0\n",
        "gamma = 3*np.pi/2\n",
        "\n",
        "with open(\"fox.obj\",'r') as f:\n",
        "    img = np.full((W,H,3), 255, dtype=np.uint8)\n",
        "    zbuf = np.full((W,H), 4000000000, dtype=np.int32)\n",
        "    data = f.readlines()\n",
        "\n",
        "    points = [] # Список всех точек модели \n",
        "\n",
        "    for line in data:\n",
        "        if((line[0]=='v') & (line[1]==' ')):\n",
        "            xyz = line[2:-1].split()\n",
        "            \n",
        "            R1 = np.array([[1,0,0],[0,np.cos(alpha),np.sin(alpha)],[0,-np.sin(alpha),np.cos(alpha)]],float)\n",
        "            R2 = np.array([[np.cos(beta),0,np.sin(beta)],[0,1,0],[-np.sin(beta),0,np.cos(beta)]],float)\n",
        "            R3 = np.array([[np.cos(gamma),np.sin(gamma),0],[-np.sin(gamma),np.cos(gamma),0],[0,0,1]],float)\n",
        "            R = R1.dot(R2.dot(R3))\n",
        "            xyznew = R.dot(np.array([float(xyz[0]),float(xyz[1]),float(xyz[2])],float))\n",
        "            \n",
        "            K = np.array([[aX,0,u0],[0,aY,v0],[0,0,5]],int)\n",
        "            A = np.array([xyznew[0]+t0,xyznew[1]+t1,xyznew[2]+t2],float)\n",
        "            KAT = K.dot(A)\n",
        "            x = int(KAT[0]+500)\n",
        "            y = int(KAT[1]+500)\n",
        "            z = int(KAT[2]+500)\n",
        "            points.append([x,y,z])\n",
        "    \n",
        "    indexes = [] # \n",
        "    polygons = [] #\n",
        "\n",
        "    for line in data:\n",
        "        if((line[0]=='f') & (line[1]==' ')):\n",
        "            indexes.append(line[2:-1])\n",
        "\n",
        "    for idx in indexes:\n",
        "        xyz = idx.split()\n",
        "        numbers = []\n",
        "        for i in xyz:\n",
        "            numbers.append(i.split('/')[0])\n",
        "        polygons.append(numbers)\n",
        "        \n",
        "    for i in polygons:\n",
        "        drawpolygon(i)\n",
        "        \n",
        "    image = Image.fromarray(img,'RGB')\n",
        "    image.save(\"image8_7.jpg\")"
      ]
    },
    {
      "cell_type": "markdown",
      "metadata": {
        "id": "AqEtyD9wYqke"
      },
      "source": [
        "# **Лабораторная работа 4**\n"
      ]
    },
    {
      "cell_type": "markdown",
      "metadata": {
        "id": "xvX9YrvIYqkf"
      },
      "source": [
        "## **17. Затемнение Гуро**"
      ]
    },
    {
      "cell_type": "code",
      "execution_count": null,
      "metadata": {
        "id": "cPyNSQcrYqkf"
      },
      "outputs": [],
      "source": [
        "def CalculateNormal(x0,y0,z0,x1,y1,z1,x2,y2,z2):\n",
        "    vx1 = x0-x1\n",
        "    vx2 = x1-x2\n",
        "    vy1 = y0-y1\n",
        "    vy2 = y1-y2\n",
        "    vz1 = z0-z1\n",
        "    vz2 = z1-z2\n",
        "    \n",
        "    nx = vy1*vz2 - vz1*vy2\n",
        "    ny = vz1*vx2 - vx1*vz2\n",
        "    nz = vx1*vy2 - vy1*vx2\n",
        "    \n",
        "    nn = np.sqrt(nx*nx + ny*ny + nz*nz)\n",
        "    \n",
        "    x = nx/nn\n",
        "    y = ny/nn\n",
        "    z = nz/nn\n",
        "    \n",
        "    return (x,y,z)"
      ]
    },
    {
      "cell_type": "code",
      "execution_count": null,
      "metadata": {
        "id": "jYMoRVHHYqkf"
      },
      "outputs": [],
      "source": [
        "def CalculateCos(n,l):\n",
        "    nl = n[0]*l[0] + n[1]*l[1] + n[2]*l[2]\n",
        "    divider = np.sqrt(n[0]*n[0] + n[1]*n[1] + n[2]*n[2])*np.sqrt(l[0]*l[0] + l[1]*l[1] + l[2]*l[2])\n",
        "    cos = nl/divider\n",
        "    return cos    "
      ]
    },
    {
      "cell_type": "code",
      "execution_count": null,
      "metadata": {
        "id": "orW0f3NNYqkg"
      },
      "outputs": [],
      "source": [
        "def draw_pixel(x,y,x0,y0,z0,x1,y1,z1,x2,y2,z2, l, oblast):\n",
        "\n",
        "    koord = bari_koord(x,y,x0,y0,x1,y1,x2,y2)\n",
        "    for i in koord:\n",
        "        if i<0: return\n",
        "    \n",
        "    z = koord[0]*z0 + koord[1]*z1 + koord[2]*z2\n",
        "    if(z < zbuf[x,y]):\n",
        "        return\n",
        "    \n",
        "    color = [0,0,0]\n",
        "    color[0] = np.abs(255*(koord[0]*l[0] + koord[1]*l[1] + koord[2]*l[2]))\n",
        "    color[1] = np.abs(102*(koord[0]*l[0] + koord[1]*l[1] + koord[2]*l[2]))\n",
        "    color[2] = np.abs(0*(koord[0]*l[0] + koord[1]*l[1] + koord[2]*l[2]))\n",
        "    img[x,y] = color\n",
        "    zbuf[x,y] = z\n",
        "    return"
      ]
    },
    {
      "cell_type": "code",
      "execution_count": null,
      "metadata": {
        "id": "DzMT-SJ3Yqkg"
      },
      "outputs": [],
      "source": [
        "def CalcAdjPolygons(polygons, points):\n",
        "    n = len(points)\n",
        "    AdjPolygons = []\n",
        "    for i in range(n):\n",
        "        AdjToI = []\n",
        "        for j in range(len(polygons)):\n",
        "            if(i == polygons[j][0]):\n",
        "                AdjToI.append(polygons[j])\n",
        "            if(i == polygons[j][1]):\n",
        "                AdjToI.append(polygons[j])\n",
        "            if(i == polygons[j][2]):\n",
        "                AdjToI.append(polygons[j])\n",
        "        AdjPolygons.append(AdjToI)\n",
        "    return AdjPolygons"
      ]
    },
    {
      "cell_type": "code",
      "execution_count": null,
      "metadata": {
        "id": "3YUOIf3rYqkh"
      },
      "outputs": [],
      "source": [
        "def CalcAdjNormals(AdjPolygons):\n",
        "    normals = []\n",
        "    for i in range(len(AdjPolygons)):\n",
        "        s = []\n",
        "        for j in range(len(AdjPolygons[i])):\n",
        "            p1 = points[AdjPolygons[i][j][0]-1]\n",
        "            p2 = points[AdjPolygons[i][j][1]-1]\n",
        "            p3 = points[AdjPolygons[i][j][2]-1]          \n",
        "            s.append(CalculateNormal(p1[0],p1[1],p1[2],p2[0],p2[1],p2[2],p3[0],p3[1],p3[2]))\n",
        "        normals.append(s)\n",
        "    return normals"
      ]
    },
    {
      "cell_type": "code",
      "execution_count": null,
      "metadata": {
        "id": "F5keXBJuYqkh"
      },
      "outputs": [],
      "source": [
        "def CalcMean(normals):\n",
        "    s = [];\n",
        "    for i in normals:\n",
        "        m = 0\n",
        "        for j in i:\n",
        "            m += CalculateCos(j,(0,0,1))\n",
        "        if(len(i)!=0):\n",
        "            m /= len(i)\n",
        "            s.append(m)\n",
        "    s.append(0)\n",
        "    return s"
      ]
    },
    {
      "cell_type": "code",
      "execution_count": null,
      "metadata": {
        "id": "zLLTiOwlYqki"
      },
      "outputs": [],
      "source": [
        "def drawpolygon(indexes):\n",
        "    p1 = points[int(indexes[0])-1];\n",
        "    p2 = points[int(indexes[1])-1];\n",
        "    p3 = points[int(indexes[2])-1];\n",
        "    \n",
        "    n = CalculateNormal(p1[0],p1[1],p1[2],p2[0],p2[1],p2[2],p3[0],p3[1],p3[2])\n",
        "    l = CalculateCos(n,(0,0,1))\n",
        "    if(l < 0):\n",
        "        return\n",
        "    l1 = S[int(indexes[0])-1]\n",
        "    l2 = S[int(indexes[1])-1]\n",
        "    l3 = S[int(indexes[2])-1]\n",
        "    \n",
        "    \n",
        "    oblast = rectangle(p1[0],p1[1],p2[0],p2[1],p3[0],p3[1])\n",
        "    # print(l1,l2,l3)\n",
        "    for i in range(oblast[0], oblast[2]):\n",
        "        for j in range(oblast[1], oblast[3]):\n",
        "            draw_pixel(i, j, p1[0],p1[1],p1[2],p2[0],p2[1],p2[2],p3[0],p3[1],p3[2],(l1,l2,l3), oblast)"
      ]
    },
    {
      "cell_type": "code",
      "execution_count": null,
      "metadata": {
        "id": "ln2_w5tKYqki"
      },
      "outputs": [],
      "source": [
        "aX = 5\n",
        "aY = 5\n",
        "\n",
        "u0 = 1\n",
        "v0 = 1\n",
        "\n",
        "t0 = 2\n",
        "t1 = 2\n",
        "t2 = 15\n",
        "# Угол в радианах\n",
        "alpha = -0.7+np.pi/2\n",
        "beta = 0\n",
        "gamma = 3*np.pi/2\n",
        "\n",
        "with open(\"fox.obj\",'r') as f:\n",
        "    img = np.full((W,H,3), 255, dtype=np.uint8)\n",
        "    zbuf = np.full((W,H), 4000000000, dtype=np.int32)\n",
        "    data = f.readlines()\n",
        "\n",
        "    points = [] # Список всех точек модели \n",
        "\n",
        "    for line in data:\n",
        "        if((line[0]=='v') & (line[1]==' ')):\n",
        "            xyz = line[2:-1].split()\n",
        "            \n",
        "            R1 = np.array([[1,0,0],[0,np.cos(alpha),np.sin(alpha)],[0,-np.sin(alpha),np.cos(alpha)]],float)\n",
        "            R2 = np.array([[np.cos(beta),0,np.sin(beta)],[0,1,0],[-np.sin(beta),0,np.cos(beta)]],float)\n",
        "            R3 = np.array([[np.cos(gamma),np.sin(gamma),0],[-np.sin(gamma),np.cos(gamma),0],[0,0,1]],float)\n",
        "            R = R1.dot(R2.dot(R3))\n",
        "            xyznew = R.dot(np.array([float(xyz[0]),float(xyz[1]),float(xyz[2])],float))\n",
        "            \n",
        "            K = np.array([[aX,0,u0],[0,aY,v0],[0,0,5]],int)\n",
        "            A = np.array([xyznew[0]+t0,xyznew[1]+t1,xyznew[2]+t2],float)\n",
        "            KAT = K.dot(A)\n",
        "            x = int(KAT[0]+500)\n",
        "            y = int(KAT[1]+500)\n",
        "            z = int(KAT[2]+500)\n",
        "            points.append([x,y,z])\n",
        "    \n",
        "    indexes = [] # \n",
        "    polygons = [] #\n",
        "\n",
        "    for line in data:\n",
        "        if((line[0]=='f') & (line[1]==' ')):\n",
        "            indexes.append(line[2:-1])\n",
        "\n",
        "    for idx in indexes:\n",
        "        xyz = idx.split()\n",
        "        numbers = []\n",
        "        for i in xyz:\n",
        "            numbers.append(int(i.split('/')[0]))\n",
        "        polygons.append(numbers)\n",
        "    Normals = CalcAdjNormals(CalcAdjPolygons(polygons,points))\n",
        "    S = CalcMean(Normals)\n",
        "    for i in polygons:\n",
        "        drawpolygon(i)\n",
        "        \n",
        "    image = Image.fromarray(img,'RGB')\n",
        "    image.save(\"image9_8.jpg\")"
      ]
    },
    {
      "cell_type": "code",
      "execution_count": null,
      "metadata": {
        "id": "q4LtfFzYYqkj"
      },
      "outputs": [],
      "source": [
        ""
      ]
    }
  ],
  "metadata": {
    "colab": {
      "collapsed_sections": [
        "2JYPapRQ7QH2"
      ],
      "name": "lr4_kom_grafika.ipynb",
      "provenance": []
    },
    "kernelspec": {
      "display_name": "Python 3 (ipykernel)",
      "language": "python",
      "name": "python3"
    },
    "language_info": {
      "codemirror_mode": {
        "name": "ipython",
        "version": 3
      },
      "file_extension": ".py",
      "mimetype": "text/x-python",
      "name": "python",
      "nbconvert_exporter": "python",
      "pygments_lexer": "ipython3",
      "version": "3.10.4"
    }
  },
  "nbformat": 4,
  "nbformat_minor": 0
}